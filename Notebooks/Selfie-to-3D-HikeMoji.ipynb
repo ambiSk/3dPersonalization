{
 "cells": [
  {
   "cell_type": "code",
   "execution_count": 2,
   "metadata": {},
   "outputs": [],
   "source": [
    "\n",
    "import pandas as pd\n"
   ]
  },
  {
   "cell_type": "code",
   "execution_count": 3,
   "metadata": {},
   "outputs": [],
   "source": [
    "df = pd.read_csv(\"../component_values_male.csv\")"
   ]
  },
  {
   "cell_type": "code",
   "execution_count": 9,
   "metadata": {},
   "outputs": [],
   "source": [
    "a = dict(df.iloc[0])"
   ]
  },
  {
   "cell_type": "code",
   "execution_count": 8,
   "metadata": {},
   "outputs": [],
   "source": [
    "b = dict([(\"Up_Lip_Thick\", 0), (\"Low_Lip_Thick\", 0), (\"L_Lip_Con_Out\", 0), (\"R_Lip_Con_Out\", 0), ('Moustache', 'FeMaleMustacheFullbeardscruffy')])"
   ]
  },
  {
   "cell_type": "code",
   "execution_count": 13,
   "metadata": {},
   "outputs": [
    {
     "data": {
      "text/plain": [
       "{'Unnamed: 0': 0,\n",
       " 'image_name': 'b1.jpg',\n",
       " 'gender': 'male',\n",
       " 'Eyes': 'MaleEyesSmallEye2',\n",
       " 'Nose': 'MaleNoseWide',\n",
       " 'Lips': 'MaleLipsAverage_Medium',\n",
       " 'Eyebrows': 'MaleEyebrowsCurvedEnds_Thick',\n",
       " 'HairFront': 'MaleHairFrontAsif_Medium',\n",
       " 'HairBack': nan,\n",
       " 'FaceShape': 'MaleFaceShapeDiamondLong',\n",
       " 'SkinColor': '#ffbea1',\n",
       " 'Eyewear': 'None',\n",
       " 'Beard': 'MaleBasebeardScruffy1DiamondLong',\n",
       " 'Goatee': 'None',\n",
       " 'Moustache': 'FeMaleMustacheFullbeardscruffy',\n",
       " 'Up_Lip_Thick': 0,\n",
       " 'Low_Lip_Thick': 0,\n",
       " 'L_Lip_Con_Out': 0,\n",
       " 'R_Lip_Con_Out': 0}"
      ]
     },
     "execution_count": 13,
     "metadata": {},
     "output_type": "execute_result"
    }
   ],
   "source": [
    "{**a, **b}"
   ]
  },
  {
   "cell_type": "code",
   "execution_count": null,
   "metadata": {},
   "outputs": [],
   "source": []
  }
 ],
 "metadata": {
  "kernelspec": {
   "display_name": "env_matchmaking",
   "language": "python",
   "name": "env_matchmaking"
  },
  "language_info": {
   "codemirror_mode": {
    "name": "ipython",
    "version": 3
   },
   "file_extension": ".py",
   "mimetype": "text/x-python",
   "name": "python",
   "nbconvert_exporter": "python",
   "pygments_lexer": "ipython3",
   "version": "3.7.12"
  },
  "orig_nbformat": 4
 },
 "nbformat": 4,
 "nbformat_minor": 2
}
